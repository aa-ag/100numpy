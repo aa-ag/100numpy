{
 "cells": [
  {
   "cell_type": "markdown",
   "source": [
    "# 21\n",
    "\n",
    "generate a two dimensional array with integers from 0 to 11."
   ],
   "metadata": {}
  },
  {
   "cell_type": "code",
   "execution_count": 2,
   "source": [
    "import numpy as np"
   ],
   "outputs": [],
   "metadata": {}
  },
  {
   "cell_type": "code",
   "execution_count": 12,
   "source": [
    "# own solution\n",
    "print(np.arange(0, 12).reshape(3, -1))"
   ],
   "outputs": [
    {
     "output_type": "stream",
     "name": "stdout",
     "text": [
      "[[ 0  1  2  3]\n",
      " [ 4  5  6  7]\n",
      " [ 8  9 10 11]]\n"
     ]
    }
   ],
   "metadata": {}
  }
 ],
 "metadata": {
  "orig_nbformat": 4,
  "language_info": {
   "name": "python",
   "version": "3.8.5",
   "mimetype": "text/x-python",
   "codemirror_mode": {
    "name": "ipython",
    "version": 3
   },
   "pygments_lexer": "ipython3",
   "nbconvert_exporter": "python",
   "file_extension": ".py"
  },
  "kernelspec": {
   "name": "python3",
   "display_name": "Python 3.8.5 64-bit ('100numpy': conda)"
  },
  "interpreter": {
   "hash": "b52f04b36f03327638756634daa21bb22e967fa5215a102905812c020871b46d"
  }
 },
 "nbformat": 4,
 "nbformat_minor": 2
}