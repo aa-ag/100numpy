{
 "cells": [
  {
   "cell_type": "markdown",
   "source": [
    "# 21\n",
    "\n",
    "generate a two dimensional array with integers from 0 to 11."
   ],
   "metadata": {}
  }
 ],
 "metadata": {
  "orig_nbformat": 4,
  "language_info": {
   "name": "python"
  }
 },
 "nbformat": 4,
 "nbformat_minor": 2
}