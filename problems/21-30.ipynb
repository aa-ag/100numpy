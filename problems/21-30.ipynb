{
 "cells": [
  {
   "cell_type": "markdown",
   "source": [
    "# 21\n",
    "\n",
    "generate a two dimensional array with integers from 0 to 11."
   ],
   "metadata": {}
  },
  {
   "cell_type": "code",
   "execution_count": 1,
   "source": [
    "import numpy as np"
   ],
   "outputs": [],
   "metadata": {}
  },
  {
   "cell_type": "code",
   "execution_count": 14,
   "source": [
    "# own solution\n",
    "# print(np.arange(0, 12).reshape(3, -1))\n",
    "\n",
    "# class alternative\n",
    "A = np.arange(12).reshape(-1, 4)\n",
    "np.save('array.npy', A)\n",
    "\n",
    "B = np.load('array.npy')\n",
    "print(B)"
   ],
   "outputs": [
    {
     "output_type": "stream",
     "name": "stdout",
     "text": [
      "[[ 0  1  2  3]\n",
      " [ 4  5  6  7]\n",
      " [ 8  9 10 11]]\n"
     ]
    }
   ],
   "metadata": {}
  },
  {
   "cell_type": "markdown",
   "source": [
    "# 23\n",
    "\n",
    "convert a two-dimensional array into a list\n",
    "\n",
    "__tip__: use `np.array.tolist()`"
   ],
   "metadata": {}
  },
  {
   "cell_type": "code",
   "execution_count": 5,
   "source": [
    "# A = np.array([[0, 1, 2, 3],\n",
    "#               [4, 5, 6, 7],\n",
    "#               [8, 9, 10, 11]])\n",
    "\n",
    "A = np.arange(12, dtype='int').reshape(-1, 4)\n",
    "print(A)\n",
    "print()\n",
    "print(A.tolist())"
   ],
   "outputs": [
    {
     "output_type": "stream",
     "name": "stdout",
     "text": [
      "[[ 0  1  2  3]\n",
      " [ 4  5  6  7]\n",
      " [ 8  9 10 11]]\n",
      "\n",
      "\n",
      "\n",
      "[[0, 1, 2, 3], [4, 5, 6, 7], [8, 9, 10, 11]]\n"
     ]
    }
   ],
   "metadata": {}
  },
  {
   "cell_type": "markdown",
   "source": [
    "# 24\n",
    "\n",
    "invert A from problem 23"
   ],
   "metadata": {}
  },
  {
   "cell_type": "code",
   "execution_count": 6,
   "source": [
    "A = np.arange(12, dtype='int').reshape(-1, 4)\n",
    "print(A[::-1])"
   ],
   "outputs": [
    {
     "output_type": "stream",
     "name": "stdout",
     "text": [
      "[[ 8  9 10 11]\n",
      " [ 4  5  6  7]\n",
      " [ 0  1  2  3]]\n"
     ]
    }
   ],
   "metadata": {}
  },
  {
   "cell_type": "markdown",
   "source": [
    "# 25\n",
    "\n",
    "transform a 4x4 array of `1.`s into a version that has a frame of `0`s per class inputs.\n",
    "\n",
    "__tip__: use `pad()`"
   ],
   "metadata": {}
  },
  {
   "cell_type": "code",
   "execution_count": 15,
   "source": [
    "A = np.ones(shape=(4, 4))\n",
    "print(np.pad(A, pad_width=1, constant_values=0))"
   ],
   "outputs": [
    {
     "output_type": "stream",
     "name": "stdout",
     "text": [
      "[[0. 0. 0. 0. 0. 0.]\n",
      " [0. 1. 1. 1. 1. 0.]\n",
      " [0. 1. 1. 1. 1. 0.]\n",
      " [0. 1. 1. 1. 1. 0.]\n",
      " [0. 1. 1. 1. 1. 0.]\n",
      " [0. 0. 0. 0. 0. 0.]]\n"
     ]
    }
   ],
   "metadata": {}
  },
  {
   "cell_type": "markdown",
   "source": [
    "# 26\n",
    "\n",
    "convert array of 0's into same array (dimensions & ints)"
   ],
   "metadata": {}
  },
  {
   "cell_type": "code",
   "execution_count": 65,
   "source": [
    "A = np.zeros(shape=(6, 6), dtype='int')\n",
    "A[::2, ::2] = 10\n",
    "A[1::2, ::2] = 5\n",
    "print(A)"
   ],
   "outputs": [
    {
     "output_type": "stream",
     "name": "stdout",
     "text": [
      "[[10  0 10  0 10  0]\n",
      " [ 5  0  5  0  5  0]\n",
      " [10  0 10  0 10  0]\n",
      " [ 5  0  5  0  5  0]\n",
      " [10  0 10  0 10  0]\n",
      " [ 5  0  5  0  5  0]]\n"
     ]
    }
   ],
   "metadata": {}
  },
  {
   "cell_type": "markdown",
   "source": [
    "# 27 \n",
    "\n",
    "combine two arrays into one using `np.append()`"
   ],
   "metadata": {}
  },
  {
   "cell_type": "code",
   "execution_count": 6,
   "source": [
    "A = np.arange(12).reshape(-1, 4)\n",
    "B = np.array([[4, 3, 7, 2],\n",
    "              [0, 5, 2, 6]])\n",
    "\n",
    "print(np.append(A, B, axis=0))"
   ],
   "outputs": [
    {
     "output_type": "stream",
     "name": "stdout",
     "text": [
      "[ 0  1  2  3  4  5  6  7  8  9 10 11  4  3  7  2  0  5  2  6]\n"
     ]
    }
   ],
   "metadata": {}
  }
 ],
 "metadata": {
  "orig_nbformat": 4,
  "language_info": {
   "name": "python",
   "version": "3.8.5",
   "mimetype": "text/x-python",
   "codemirror_mode": {
    "name": "ipython",
    "version": 3
   },
   "pygments_lexer": "ipython3",
   "nbconvert_exporter": "python",
   "file_extension": ".py"
  },
  "kernelspec": {
   "name": "python3",
   "display_name": "Python 3.8.5 64-bit ('100numpy': conda)"
  },
  "interpreter": {
   "hash": "b52f04b36f03327638756634daa21bb22e967fa5215a102905812c020871b46d"
  }
 },
 "nbformat": 4,
 "nbformat_minor": 2
}