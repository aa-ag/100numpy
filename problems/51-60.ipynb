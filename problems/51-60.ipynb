{
 "cells": [
  {
   "cell_type": "code",
   "execution_count": 3,
   "metadata": {},
   "outputs": [],
   "source": [
    "import numpy as np"
   ]
  },
  {
   "cell_type": "markdown",
   "metadata": {},
   "source": [
    "# 51\n",
    "\n",
    "concatenate two given arrays.  __tip__: use `np.concatenate()`"
   ]
  },
  {
   "cell_type": "code",
   "execution_count": 5,
   "metadata": {},
   "outputs": [
    {
     "name": "stdout",
     "output_type": "stream",
     "text": [
      "[[3 4 5]\n",
      " [8 3 1]\n",
      " [0 5 2]\n",
      " [4 2 1]]\n"
     ]
    }
   ],
   "source": [
    "A = np.array([[3, 4, 5],\n",
    "              [8, 3, 1]])\n",
    "B = np.array([[0, 5, 2],\n",
    "              [4, 2, 1]])\n",
    "\n",
    "print(np.concatenate((A, B), axis=0))"
   ]
  },
  {
   "cell_type": "markdown",
   "metadata": {},
   "source": [
    "# 52\n",
    "\n",
    "two arrays are given, concatenate them in the expected format shown in class."
   ]
  },
  {
   "cell_type": "code",
   "execution_count": 7,
   "metadata": {},
   "outputs": [
    {
     "name": "stdout",
     "output_type": "stream",
     "text": [
      "[[4.3 4.2 0. ]\n",
      " [3.1 3.6 1. ]]\n"
     ]
    }
   ],
   "source": [
    "data = np.array([[4.3, 4.2],\n",
    "                 [3.1, 3.6]])\n",
    "target = np.array([[0],\n",
    "                   [1]])\n",
    "\n",
    "print(np.concatenate((data, target), axis=1))"
   ]
  },
  {
   "cell_type": "markdown",
   "metadata": {},
   "source": [
    "# 53\n",
    "\n",
    "three one-dimensional arrays are provided, transform each into a colum and concatenate them into one array in expected format per class.\n",
    "\n",
    "__tip__: use `np.column_stack()`"
   ]
  },
  {
   "cell_type": "code",
   "execution_count": 9,
   "metadata": {},
   "outputs": [
    {
     "name": "stdout",
     "output_type": "stream",
     "text": [
      "[[1.6 0.4 1.4]\n",
      " [0.9 1.3 0.3]\n",
      " [2.2 3.2 1.2]]\n"
     ]
    }
   ],
   "source": [
    "a = np.array([1.6, 0.9, 2.2])\n",
    "b = np.array([0.4, 1.3, 3.2])\n",
    "c = np.array([1.4, 0.3, 1.2])\n",
    "\n",
    "print(np.column_stack((a, b, c)))"
   ]
  },
  {
   "cell_type": "markdown",
   "metadata": {},
   "source": [
    "# 54\n",
    "\n",
    "a two-dimensional array is given. the task is to split this array into three parts:  (i) the first two columns, (ii) the next four columns, (iii) the last to columns. \n",
    "\n",
    "__tip__: use `np.split()`"
   ]
  },
  {
   "cell_type": "code",
   "execution_count": 28,
   "metadata": {},
   "outputs": [
    {
     "name": "stdout",
     "output_type": "stream",
     "text": [
      "[[0 0]\n",
      " [0 0]\n",
      " [0 0]\n",
      " [0 0]\n",
      " [0 0]]\n",
      "[[4 6 2 4]\n",
      " [6 2 2 4]\n",
      " [1 3 5 5]\n",
      " [3 1 5 4]\n",
      " [2 6 1 3]]\n",
      "[[1 1]\n",
      " [1 1]\n",
      " [1 1]\n",
      " [1 1]\n",
      " [1 1]]\n"
     ]
    }
   ],
   "source": [
    "np.random.seed(42)\n",
    "\n",
    "A = np.random.randint(low=0, high=7, size=(5, 8))\n",
    "A[:, :2] = 0\n",
    "A[:, -2:] = 1\n",
    "A1, A2, A3 = np.split(A, [2, 6], axis=1)\n",
    "print(A1)\n",
    "print(A2)\n",
    "print(A3)\n"
   ]
  },
  {
   "cell_type": "markdown",
   "metadata": {},
   "source": [
    "# 55\n",
    "\n",
    "calculate the total number of non-zero elements in a given array."
   ]
  },
  {
   "cell_type": "code",
   "execution_count": 31,
   "metadata": {},
   "outputs": [
    {
     "name": "stdout",
     "output_type": "stream",
     "text": [
      "31\n"
     ]
    }
   ],
   "source": [
    "np.random.seed(42)\n",
    "\n",
    "A = np.random.randint(low=0, high=2, size=(10, 6))\n",
    "print(np.count_nonzero(A))"
   ]
  },
  {
   "cell_type": "markdown",
   "metadata": {},
   "source": [
    "# 56\n",
    "\n",
    "change the specified precision to 4 in a given array."
   ]
  },
  {
   "cell_type": "code",
   "execution_count": null,
   "metadata": {},
   "outputs": [],
   "source": [
    "np.random.seed(42)\n",
    "\n",
    "A = np.random.randn(10, 4)\n",
    "print(A)"
   ]
  }
 ],
 "metadata": {
  "interpreter": {
   "hash": "f484f25a6b14c3ecb57adb57e63a12607335c7669ce794bc6cff4e9f264f762d"
  },
  "kernelspec": {
   "display_name": "Python 3.8.5 64-bit ('100numpy': conda)",
   "name": "python3"
  },
  "language_info": {
   "codemirror_mode": {
    "name": "ipython",
    "version": 3
   },
   "file_extension": ".py",
   "mimetype": "text/x-python",
   "name": "python",
   "nbconvert_exporter": "python",
   "pygments_lexer": "ipython3",
   "version": "3.8.5"
  },
  "orig_nbformat": 4
 },
 "nbformat": 4,
 "nbformat_minor": 2
}
