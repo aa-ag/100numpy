{
 "cells": [
  {
   "cell_type": "markdown",
   "source": [
    "# 11\n",
    "\n",
    "create a one-dimensional array of all two-digit numbers and print this array.\n",
    "\n",
    "Tip: use `np.arange()` function."
   ],
   "metadata": {}
  },
  {
   "cell_type": "code",
   "execution_count": 2,
   "source": [
    "import numpy as np"
   ],
   "outputs": [],
   "metadata": {}
  },
  {
   "cell_type": "code",
   "execution_count": 7,
   "source": [
    "print(np.arange(10,100))"
   ],
   "outputs": [
    {
     "output_type": "stream",
     "name": "stdout",
     "text": [
      "[10 11 12 13 14 15 16 17 18 19 20 21 22 23 24 25 26 27 28 29 30 31 32 33\n",
      " 34 35 36 37 38 39 40 41 42 43 44 45 46 47 48 49 50 51 52 53 54 55 56 57\n",
      " 58 59 60 61 62 63 64 65 66 67 68 69 70 71 72 73 74 75 76 77 78 79 80 81\n",
      " 82 83 84 85 86 87 88 89 90 91 92 93 94 95 96 97 98 99]\n"
     ]
    }
   ],
   "metadata": {}
  },
  {
   "cell_type": "markdown",
   "source": [
    "# 12\n",
    "\n",
    "Create array shown in image from class (too lazy to copy paste lol)"
   ],
   "metadata": {}
  },
  {
   "cell_type": "code",
   "execution_count": 31,
   "source": [
    "array = np.arange(10, 100)\n",
    "matrix = array.reshape(9, 10)\n",
    "print(matrix)\n",
    "\n",
    "### alternatives\n",
    "print('\\n\\n')\n",
    "print(np.arange(10, 100).reshape(-1, 10))\n",
    "\n",
    "print('\\n\\n')\n",
    "print(np.arange(10, 100).reshape(9, 10))\n",
    "\n",
    "print('\\n\\n')\n",
    "print(np.arange(10, 100).reshape(9, -1))"
   ],
   "outputs": [
    {
     "output_type": "stream",
     "name": "stdout",
     "text": [
      "[[10 11 12 13 14 15 16 17 18 19]\n",
      " [20 21 22 23 24 25 26 27 28 29]\n",
      " [30 31 32 33 34 35 36 37 38 39]\n",
      " [40 41 42 43 44 45 46 47 48 49]\n",
      " [50 51 52 53 54 55 56 57 58 59]\n",
      " [60 61 62 63 64 65 66 67 68 69]\n",
      " [70 71 72 73 74 75 76 77 78 79]\n",
      " [80 81 82 83 84 85 86 87 88 89]\n",
      " [90 91 92 93 94 95 96 97 98 99]]\n",
      "\n",
      "\n",
      "\n",
      "[[10 11 12 13 14 15 16 17 18 19]\n",
      " [20 21 22 23 24 25 26 27 28 29]\n",
      " [30 31 32 33 34 35 36 37 38 39]\n",
      " [40 41 42 43 44 45 46 47 48 49]\n",
      " [50 51 52 53 54 55 56 57 58 59]\n",
      " [60 61 62 63 64 65 66 67 68 69]\n",
      " [70 71 72 73 74 75 76 77 78 79]\n",
      " [80 81 82 83 84 85 86 87 88 89]\n",
      " [90 91 92 93 94 95 96 97 98 99]]\n",
      "\n",
      "\n",
      "\n",
      "[[10 11 12 13 14 15 16 17 18 19]\n",
      " [20 21 22 23 24 25 26 27 28 29]\n",
      " [30 31 32 33 34 35 36 37 38 39]\n",
      " [40 41 42 43 44 45 46 47 48 49]\n",
      " [50 51 52 53 54 55 56 57 58 59]\n",
      " [60 61 62 63 64 65 66 67 68 69]\n",
      " [70 71 72 73 74 75 76 77 78 79]\n",
      " [80 81 82 83 84 85 86 87 88 89]\n",
      " [90 91 92 93 94 95 96 97 98 99]]\n",
      "\n",
      "\n",
      "\n",
      "[[10 11 12 13 14 15 16 17 18 19]\n",
      " [20 21 22 23 24 25 26 27 28 29]\n",
      " [30 31 32 33 34 35 36 37 38 39]\n",
      " [40 41 42 43 44 45 46 47 48 49]\n",
      " [50 51 52 53 54 55 56 57 58 59]\n",
      " [60 61 62 63 64 65 66 67 68 69]\n",
      " [70 71 72 73 74 75 76 77 78 79]\n",
      " [80 81 82 83 84 85 86 87 88 89]\n",
      " [90 91 92 93 94 95 96 97 98 99]]\n"
     ]
    }
   ],
   "metadata": {}
  },
  {
   "cell_type": "markdown",
   "source": [],
   "metadata": {}
  },
  {
   "cell_type": "markdown",
   "source": [
    "# 13\n",
    "\n",
    "create a 6x6 two-dimensional array - identity matrix with int data type."
   ],
   "metadata": {}
  },
  {
   "cell_type": "code",
   "execution_count": 3,
   "source": [
    "print(np.eye(6, dtype=int))\n",
    "\n",
    "### solution from class\n",
    "# print(np.eye(N=6, dtype='int'))"
   ],
   "outputs": [
    {
     "output_type": "stream",
     "name": "stdout",
     "text": [
      "[[1 0 0 0 0 0]\n",
      " [0 1 0 0 0 0]\n",
      " [0 0 1 0 0 0]\n",
      " [0 0 0 1 0 0]\n",
      " [0 0 0 0 1 0]\n",
      " [0 0 0 0 0 1]]\n"
     ]
    }
   ],
   "metadata": {}
  },
  {
   "cell_type": "markdown",
   "source": [
    "# 14\n",
    "\n",
    "Set the sandom seed to 10.  Then create a one-dimensional array consisting of 30 pseudo-randomly generated values from the uniform distribution.\n",
    "\n",
    "__Tip__: use `np.random.rand()`"
   ],
   "metadata": {}
  },
  {
   "cell_type": "code",
   "execution_count": 9,
   "source": [
    "np.random.seed(10)\n",
    "print(np.random.rand(30))"
   ],
   "outputs": [
    {
     "output_type": "stream",
     "name": "stdout",
     "text": [
      "[0.77132064 0.02075195 0.63364823 0.74880388 0.49850701 0.22479665\n",
      " 0.19806286 0.76053071 0.16911084 0.08833981 0.68535982 0.95339335\n",
      " 0.00394827 0.51219226 0.81262096 0.61252607 0.72175532 0.29187607\n",
      " 0.91777412 0.71457578 0.54254437 0.14217005 0.37334076 0.67413362\n",
      " 0.44183317 0.43401399 0.61776698 0.51313824 0.65039718 0.60103895]\n"
     ]
    }
   ],
   "metadata": {}
  },
  {
   "cell_type": "markdown",
   "source": [
    "# 15\n",
    "\n",
    "create two-dimensional array with shape (10, 4) pseudo-randomly generated values from the standard normal distribution N(0,1).  __SET the random seed to 20__."
   ],
   "metadata": {}
  },
  {
   "cell_type": "code",
   "execution_count": 11,
   "source": [
    "np.random.seed(20)\n",
    "print(np.random.randn(10, 4))"
   ],
   "outputs": [
    {
     "output_type": "stream",
     "name": "stdout",
     "text": [
      "[[ 0.88389311  0.19586502  0.35753652 -2.34326191]\n",
      " [-1.08483259  0.55969629  0.93946935 -0.97848104]\n",
      " [ 0.50309684  0.40641447  0.32346101 -0.49341088]\n",
      " [-0.79201679 -0.84236793 -1.27950266  0.24571517]\n",
      " [-0.0441948   1.56763255  1.05110868  0.40636843]\n",
      " [-0.1686461  -3.18970279  1.12013226  1.33277821]\n",
      " [-0.24333877 -0.13003071 -0.10901737  1.55618644]\n",
      " [ 0.12877835 -2.06694872 -0.88549315 -1.10457948]\n",
      " [ 0.93286635  2.059838   -0.93493796 -1.61299022]\n",
      " [ 0.52706972 -1.55110074  0.32961334 -1.13652654]]\n"
     ]
    }
   ],
   "metadata": {}
  },
  {
   "cell_type": "markdown",
   "source": [
    "# 16\n",
    "\n",
    "create a two-dimensional array with the shape (10, 4), pseudo-randomly generated valued from normal distribution (100, 5).  Set seed to 30."
   ],
   "metadata": {}
  },
  {
   "cell_type": "code",
   "execution_count": 14,
   "source": [
    "np.random.seed(30)\n",
    "mu, sigma = 100, np.sqrt(5)\n",
    "print(sigma * np.random.randn(10, 4) + mu)"
   ],
   "outputs": [
    {
     "output_type": "error",
     "ename": "SyntaxError",
     "evalue": "unexpected EOF while parsing (<ipython-input-14-924c75bb492e>, line 3)",
     "traceback": [
      "\u001b[0;36m  File \u001b[0;32m\"<ipython-input-14-924c75bb492e>\"\u001b[0;36m, line \u001b[0;32m3\u001b[0m\n\u001b[0;31m    print(sigma * np.random.randn(size=(10, 4) + mu)\u001b[0m\n\u001b[0m                                                    ^\u001b[0m\n\u001b[0;31mSyntaxError\u001b[0m\u001b[0;31m:\u001b[0m unexpected EOF while parsing\n"
     ]
    }
   ],
   "metadata": {}
  }
 ],
 "metadata": {
  "kernelspec": {
   "name": "python3",
   "display_name": "Python 3.8.5 64-bit ('100numpy': conda)"
  },
  "language_info": {
   "codemirror_mode": {
    "name": "ipython",
    "version": 3
   },
   "file_extension": ".py",
   "mimetype": "text/x-python",
   "name": "python",
   "nbconvert_exporter": "python",
   "pygments_lexer": "ipython3",
   "version": "3.8.5"
  },
  "interpreter": {
   "hash": "b52f04b36f03327638756634daa21bb22e967fa5215a102905812c020871b46d"
  }
 },
 "nbformat": 4,
 "nbformat_minor": 4
}