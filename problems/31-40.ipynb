{
 "cells": [
  {
   "cell_type": "markdown",
   "source": [
    "# 31\n",
    "\n",
    "expand array shown in class by 1 dimension"
   ],
   "metadata": {}
  },
  {
   "cell_type": "code",
   "execution_count": null,
   "source": [],
   "outputs": [],
   "metadata": {}
  }
 ],
 "metadata": {
  "orig_nbformat": 4,
  "language_info": {
   "name": "python"
  }
 },
 "nbformat": 4,
 "nbformat_minor": 2
}