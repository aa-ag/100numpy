{
 "cells": [
  {
   "cell_type": "code",
   "execution_count": 2,
   "source": [
    "import numpy as np"
   ],
   "outputs": [],
   "metadata": {}
  },
  {
   "cell_type": "markdown",
   "source": [
    "# 31\n",
    "\n",
    "expand array shown in class by 1 dimension"
   ],
   "metadata": {}
  },
  {
   "cell_type": "code",
   "execution_count": 7,
   "source": [
    "A = np.array([[4, 2, 1],\n",
    "              [6, 4, 2]])\n",
    "\n",
    "print(np.expand_dims(A, axis=0))"
   ],
   "outputs": [
    {
     "output_type": "stream",
     "name": "stdout",
     "text": [
      "[[[4 2 1]\n",
      "  [6 4 2]]]\n"
     ]
    }
   ],
   "metadata": {}
  },
  {
   "cell_type": "markdown",
   "source": [
    "# 32\n",
    "\n",
    "create a three-dimensional array called _image_  with shape (200, 300, 3) filled with random values from 0 to 255 (inclusive) and data type `np.uint8`. Set random seed to 42. "
   ],
   "metadata": {}
  },
  {
   "cell_type": "code",
   "execution_count": 23,
   "source": [
    "np.random.seed(42)\n",
    "\n",
    "a = np.random.randint(low=0, high=256, size=(200, 300, 3), dtype=np.uint8)\n",
    "print(a)"
   ],
   "outputs": [
    {
     "output_type": "stream",
     "name": "stdout",
     "text": [
      "[[[102 179  92]\n",
      "  [ 14 106  71]\n",
      "  [188  20 102]\n",
      "  ...\n",
      "  [ 70 216  44]\n",
      "  [131  35  69]\n",
      "  [251 158  18]]\n",
      "\n",
      " [[188 107 181]\n",
      "  [166  90 201]\n",
      "  [ 89  18  38]\n",
      "  ...\n",
      "  [141 222  54]\n",
      "  [175 209   6]\n",
      "  [ 73   6 160]]\n",
      "\n",
      " [[150  84 146]\n",
      "  [111 124 146]\n",
      "  [ 35  28 187]\n",
      "  ...\n",
      "  [ 36   3 219]\n",
      "  [107 125  19]\n",
      "  [187 151  49]]\n",
      "\n",
      " ...\n",
      "\n",
      " [[  6  46 221]\n",
      "  [155 208  26]\n",
      "  [209  83 185]\n",
      "  ...\n",
      "  [254   0 202]\n",
      "  [ 80 149 205]\n",
      "  [107  22 209]]\n",
      "\n",
      " [[146  26  17]\n",
      "  [181 144 182]\n",
      "  [ 89 157 225]\n",
      "  ...\n",
      "  [199 207 235]\n",
      "  [ 98 246  44]\n",
      "  [ 58 137 147]]\n",
      "\n",
      " [[ 34 178 138]\n",
      "  [213  74 201]\n",
      "  [183  77  16]\n",
      "  ...\n",
      "  [ 31 143 231]\n",
      "  [240 251  40]\n",
      "  [201   8  84]]]\n"
     ]
    }
   ],
   "metadata": {}
  }
 ],
 "metadata": {
  "orig_nbformat": 4,
  "language_info": {
   "name": "python",
   "version": "3.8.5",
   "mimetype": "text/x-python",
   "codemirror_mode": {
    "name": "ipython",
    "version": 3
   },
   "pygments_lexer": "ipython3",
   "nbconvert_exporter": "python",
   "file_extension": ".py"
  },
  "kernelspec": {
   "name": "python3",
   "display_name": "Python 3.8.5 64-bit ('100numpy': conda)"
  },
  "interpreter": {
   "hash": "b52f04b36f03327638756634daa21bb22e967fa5215a102905812c020871b46d"
  }
 },
 "nbformat": 4,
 "nbformat_minor": 2
}