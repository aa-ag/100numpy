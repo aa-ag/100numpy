{
 "cells": [
  {
   "cell_type": "code",
   "execution_count": 1,
   "metadata": {},
   "outputs": [
    {
     "name": "stdout",
     "output_type": "stream",
     "text": [
      "1.19.1\n"
     ]
    }
   ],
   "source": [
    "import numpy as np\n",
    "print(np.__version__)"
   ]
  },
  {
   "cell_type": "markdown",
   "metadata": {},
   "source": [
    "# 61\n",
    "\n",
    "for the given arrays, calculate the arithmetic means (elementwise)"
   ]
  },
  {
   "cell_type": "code",
   "execution_count": 4,
   "metadata": {},
   "outputs": [
    {
     "name": "stdout",
     "output_type": "stream",
     "text": [
      "[[3.5 3.5 5.5 3.5]\n",
      " [5.5 3.  1.5 5.5]]\n"
     ]
    }
   ],
   "source": [
    "A = np.array([[3, 4, 9, 2],\n",
    "              [5, 3, 2, 5]])\n",
    "B = np.array([[4, 3, 2, 5],\n",
    "              [6, 3, 1, 6]])\n",
    "\n",
    "# print((A + B) / 2)\n",
    "print(np.divide(np.add(A, B), 2))"
   ]
  },
  {
   "cell_type": "markdown",
   "metadata": {},
   "source": [
    "# 62\n",
    "\n",
    "two arrays are given, multiply these arrays element-wise"
   ]
  },
  {
   "cell_type": "code",
   "execution_count": 5,
   "metadata": {},
   "outputs": [
    {
     "name": "stdout",
     "output_type": "stream",
     "text": [
      "[[3 4 9 2]\n",
      " [5 3 2 5]]\n",
      "[[4 3 2 5]\n",
      " [6 3 1 6]]\n"
     ]
    }
   ],
   "source": [
    "A = np.array([[3, 4, 9, 2],\n",
    "              [5, 3, 2, 5]])\n",
    "B = np.array([[4, 3, 2, 5],\n",
    "              [6, 3, 1, 6]])\n",
    "\n",
    "print(A)\n",
    "print(B)"
   ]
  }
 ],
 "metadata": {
  "interpreter": {
   "hash": "f484f25a6b14c3ecb57adb57e63a12607335c7669ce794bc6cff4e9f264f762d"
  },
  "kernelspec": {
   "display_name": "Python 3.8.5 64-bit ('100numpy': conda)",
   "name": "python3"
  },
  "language_info": {
   "codemirror_mode": {
    "name": "ipython",
    "version": 3
   },
   "file_extension": ".py",
   "mimetype": "text/x-python",
   "name": "python",
   "nbconvert_exporter": "python",
   "pygments_lexer": "ipython3",
   "version": "3.8.5"
  },
  "orig_nbformat": 4
 },
 "nbformat": 4,
 "nbformat_minor": 2
}
