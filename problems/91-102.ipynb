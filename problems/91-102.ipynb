{
 "cells": [
  {
   "cell_type": "code",
   "execution_count": 1,
   "metadata": {},
   "outputs": [
    {
     "name": "stdout",
     "output_type": "stream",
     "text": [
      "1.19.1\n"
     ]
    }
   ],
   "source": [
    "import numpy as np\n",
    "print(np.__version__)"
   ]
  },
  {
   "cell_type": "markdown",
   "metadata": {},
   "source": [
    "# 91\n",
    "\n",
    "using a given string, create an array under variable `wig_games`"
   ]
  },
  {
   "cell_type": "code",
   "execution_count": 17,
   "metadata": {},
   "outputs": [
    {
     "name": "stdout",
     "output_type": "stream",
     "text": [
      "[['Profile' 'Time' 'Course' 'Change' 'Change%' 'Ref.' 'Open' 'Low' 'High' 'Volume' 'Turn' 'Share']\n",
      " ['11B(11BIT)' '17kwi17:01' '391.00' '+8.00' '(+2.09%)' '383.00' '383.50' '383.00' '394.00' '12784' '4994874' '19.034%']\n",
      " ['CDR(CDPROJEKT)' '17kwi17:01' '339.50' '+5.30' '(+1.59%)' '334.20' '338.30' '337.00' '344.20' '233059' '79245368' '39.618%']\n",
      " ['CIG(CIGAMES)' '17kwi17:03' '0.742' '-0.012' '(-1.59%)' '0.754' '0.772' '0.730' '0.772' '1311078' '971459' '1.855%']\n",
      " ['PLW(PLAYWAY)' '17kwi17:03' '387.50' '+18.00' '(+4.87%)' '369.50' '374.00' '373.00' '388.00' '33206' '12661786' '10.638%']\n",
      " ['TEN(TSGAMES)' '17kwi17:02' '349.50' '+22.50' '(+6.88%)' '327.00' '332.00' '330.00' '353.50' '39793' '13697060' '28.855%']]\n"
     ]
    }
   ],
   "source": [
    "np.set_printoptions(linewidth=160, suppress=True)\n",
    "\n",
    "wig_games_raw = \"\"\"Profile\tTime\tCourse\tChange\tChange%\tRef.\tOpen\tLow\tHigh\tVolume\tTurn\tShare\n",
    "11B (11BIT)\t17 kwi 17:01\t391.00\t+8.00\t(+2.09%)\t383.00\t383.50\t383.00\t394.00\t12 784\t4 994 874\t19.034%\n",
    "CDR (CDPROJEKT)\t17 kwi 17:01\t339.50\t+5.30\t(+1.59%)\t334.20\t338.30\t337.00\t344.20\t233 059\t79 245 368\t39.618%\n",
    "CIG (CIGAMES)\t17 kwi 17:03\t0.742\t-0.012\t(-1.59%)\t0.754\t0.772\t0.730\t0.772\t1 311 078\t971 459\t1.855%\n",
    "PLW (PLAYWAY)\t17 kwi 17:03\t387.50\t+18.00\t(+4.87%)\t369.50\t374.00\t373.00\t388.00\t33 206\t12 661 786\t10.638%\n",
    "TEN (TSGAMES)\t17 kwi 17:02\t349.50\t+22.50\t(+6.88%)\t327.00\t332.00\t330.00\t353.50\t39 793\t13 697 060\t28.855%\"\"\"\n",
    "\n",
    "lines = wig_games_raw.splitlines()\n",
    "lines = [line.split('\\t') for line in lines]\n",
    "wig_games = np.array(lines, dtype=np.str)\n",
    "wig_games = np.char.replace(wig_games, ' ', '')\n",
    "print(wig_games)"
   ]
  },
  {
   "cell_type": "markdown",
   "metadata": {},
   "source": [
    "# 92\n",
    "\n",
    "for a given array, remove the specified columns:\n",
    "\n",
    "- `Change`\n",
    "- `Change%`\n",
    "- `Ref.`\n",
    "- `Volume`"
   ]
  },
  {
   "cell_type": "code",
   "execution_count": 18,
   "metadata": {},
   "outputs": [
    {
     "name": "stdout",
     "output_type": "stream",
     "text": [
      "[['Profile' 'Time' 'Course' 'Change' 'Change%' 'Ref.' 'Open' 'Low' 'High' 'Volume' 'Turn' 'Share']\n",
      " ['11B(11BIT)' '17kwi17:01' '391.00' '+8.00' '(+2.09%)' '383.00' '383.50' '383.00' '394.00' '12784' '4994874' '19.034%']\n",
      " ['CDR(CDPROJEKT)' '17kwi17:01' '339.50' '+5.30' '(+1.59%)' '334.20' '338.30' '337.00' '344.20' '233059' '79245368' '39.618%']\n",
      " ['CIG(CIGAMES)' '17kwi17:03' '0.742' '-0.012' '(-1.59%)' '0.754' '0.772' '0.730' '0.772' '1311078' '971459' '1.855%']\n",
      " ['PLW(PLAYWAY)' '17kwi17:03' '387.50' '+18.00' '(+4.87%)' '369.50' '374.00' '373.00' '388.00' '33206' '12661786' '10.638%']\n",
      " ['TEN(TSGAMES)' '17kwi17:02' '349.50' '+22.50' '(+6.88%)' '327.00' '332.00' '330.00' '353.50' '39793' '13697060' '28.855%']]\n"
     ]
    }
   ],
   "source": [
    "np.set_printoptions(linewidth=160, suppress=True)\n",
    "\n",
    "wig_games = np.array([['Profile', 'Time', 'Course', 'Change', 'Change%', 'Ref.', 'Open', 'Low', 'High', 'Volume', 'Turn', 'Share'],\n",
    "       ['11B(11BIT)', '17kwi17:01', '391.00', '+8.00', '(+2.09%)', '383.00', '383.50', '383.00', '394.00', '12784', '4994874', '19.034%'],\n",
    "       ['CDR(CDPROJEKT)', '17kwi17:01', '339.50', '+5.30', '(+1.59%)', '334.20', '338.30', '337.00', '344.20', '233059', '79245368', '39.618%'],\n",
    "       ['CIG(CIGAMES)', '17kwi17:03', '0.742', '-0.012', '(-1.59%)', '0.754', '0.772', '0.730', '0.772', '1311078', '971459', '1.855%'],\n",
    "       ['PLW(PLAYWAY)', '17kwi17:03', '387.50', '+18.00', '(+4.87%)', '369.50', '374.00', '373.00', '388.00', '33206', '12661786', '10.638%'],\n",
    "       ['TEN(TSGAMES)', '17kwi17:02', '349.50', '+22.50', '(+6.88%)', '327.00', '332.00', '330.00', '353.50', '39793', '13697060', '28.855%']], dtype='<U14')\n",
    "\n",
    "print(wig_games)"
   ]
  },
  {
   "cell_type": "markdown",
   "metadata": {},
   "source": [
    "# 93\n",
    "\n",
    "save a given array into a csv file named `wig_games.csv`"
   ]
  },
  {
   "cell_type": "code",
   "execution_count": 8,
   "metadata": {},
   "outputs": [
    {
     "name": "stdout",
     "output_type": "stream",
     "text": [
      "[['Profile' 'Time' 'Course' 'Open' 'Low' 'High' 'Turn' 'Share']\n",
      " ['11B(11BIT)' '17kwi17:01' '391.00' '383.50' '383.00' '394.00' '4994874' '19.034%']\n",
      " ['CDR(CDPROJEKT)' '17kwi17:01' '339.50' '338.30' '337.00' '344.20' '79245368' '39.618%']\n",
      " ['CIG(CIGAMES)' '17kwi17:03' '0.742' '0.772' '0.730' '0.772' '971459' '1.855%']\n",
      " ['PLW(PLAYWAY)' '17kwi17:03' '387.50' '374.00' '373.00' '388.00' '12661786' '10.638%']\n",
      " ['TEN(TSGAMES)' '17kwi17:02' '349.50' '332.00' '330.00' '353.50' '13697060' '28.855%']]\n"
     ]
    }
   ],
   "source": [
    "np.set_printoptions(linewidth=160, suppress=True)\n",
    "\n",
    "wig_games = np.array([['Profile', 'Time', 'Course', 'Open', 'Low', 'High', 'Turn', 'Share'],\n",
    "       ['11B(11BIT)', '17kwi17:01', '391.00', '383.50', '383.00', '394.00', '4994874', '19.034%'],\n",
    "       ['CDR(CDPROJEKT)', '17kwi17:01', '339.50', '338.30', '337.00', '344.20', '79245368', '39.618%'],\n",
    "       ['CIG(CIGAMES)', '17kwi17:03', '0.742', '0.772', '0.730', '0.772', '971459', '1.855%'],\n",
    "       ['PLW(PLAYWAY)', '17kwi17:03', '387.50', '374.00', '373.00', '388.00', '12661786', '10.638%'],\n",
    "       ['TEN(TSGAMES)', '17kwi17:02', '349.50', '332.00', '330.00', '353.50', '13697060', '28.855%']], dtype='<U14')\n",
    "\n",
    "np.savetxt(fname='wig_games.csv', X=wig_games, fmt='%s', delimiter=',')\n",
    "wig_games_new = np.loadtxt(fname='wig_games.csv', delimiter=',', dtype=str)\n",
    "print(wig_games_new)"
   ]
  }
 ],
 "metadata": {
  "interpreter": {
   "hash": "f484f25a6b14c3ecb57adb57e63a12607335c7669ce794bc6cff4e9f264f762d"
  },
  "kernelspec": {
   "display_name": "Python 3.8.5 64-bit ('100numpy': conda)",
   "name": "python3"
  },
  "language_info": {
   "codemirror_mode": {
    "name": "ipython",
    "version": 3
   },
   "file_extension": ".py",
   "mimetype": "text/x-python",
   "name": "python",
   "nbconvert_exporter": "python",
   "pygments_lexer": "ipython3",
   "version": "3.8.5"
  },
  "orig_nbformat": 4
 },
 "nbformat": 4,
 "nbformat_minor": 2
}
