{
 "cells": [
  {
   "cell_type": "code",
   "execution_count": 2,
   "metadata": {},
   "outputs": [
    {
     "name": "stdout",
     "output_type": "stream",
     "text": [
      "1.19.1\n"
     ]
    }
   ],
   "source": [
    "import numpy as np\n",
    "print(np.__version__)"
   ]
  },
  {
   "cell_type": "markdown",
   "metadata": {},
   "source": [
    "# 91\n",
    "\n",
    "using a given string, create an array under variable `wig_games`"
   ]
  },
  {
   "cell_type": "code",
   "execution_count": 3,
   "metadata": {},
   "outputs": [
    {
     "name": "stdout",
     "output_type": "stream",
     "text": [
      "Profile\tTime\tCourse\tChange\tChange%\tRef.\tOpen\tLow\tHigh\tVolume\tTurn\tShare\n",
      "11B (11BIT)\t17 kwi 17:01\t391.00\t+8.00\t(+2.09%)\t383.00\t383.50\t383.00\t394.00\t12 784\t4 994 874\t19.034%\n",
      "CDR (CDPROJEKT)\t17 kwi 17:01\t339.50\t+5.30\t(+1.59%)\t334.20\t338.30\t337.00\t344.20\t233 059\t79 245 368\t39.618%\n",
      "CIG (CIGAMES)\t17 kwi 17:03\t0.742\t-0.012\t(-1.59%)\t0.754\t0.772\t0.730\t0.772\t1 311 078\t971 459\t1.855%\n",
      "PLW (PLAYWAY)\t17 kwi 17:03\t387.50\t+18.00\t(+4.87%)\t369.50\t374.00\t373.00\t388.00\t33 206\t12 661 786\t10.638%\n",
      "TEN (TSGAMES)\t17 kwi 17:02\t349.50\t+22.50\t(+6.88%)\t327.00\t332.00\t330.00\t353.50\t39 793\t13 697 060\t28.855%\n"
     ]
    }
   ],
   "source": [
    "np.set_printoptions(linewidth=160, suppress=True)\n",
    "\n",
    "wig_games_raw = \"\"\"Profile\tTime\tCourse\tChange\tChange%\tRef.\tOpen\tLow\tHigh\tVolume\tTurn\tShare\n",
    "11B (11BIT)\t17 kwi 17:01\t391.00\t+8.00\t(+2.09%)\t383.00\t383.50\t383.00\t394.00\t12 784\t4 994 874\t19.034%\n",
    "CDR (CDPROJEKT)\t17 kwi 17:01\t339.50\t+5.30\t(+1.59%)\t334.20\t338.30\t337.00\t344.20\t233 059\t79 245 368\t39.618%\n",
    "CIG (CIGAMES)\t17 kwi 17:03\t0.742\t-0.012\t(-1.59%)\t0.754\t0.772\t0.730\t0.772\t1 311 078\t971 459\t1.855%\n",
    "PLW (PLAYWAY)\t17 kwi 17:03\t387.50\t+18.00\t(+4.87%)\t369.50\t374.00\t373.00\t388.00\t33 206\t12 661 786\t10.638%\n",
    "TEN (TSGAMES)\t17 kwi 17:02\t349.50\t+22.50\t(+6.88%)\t327.00\t332.00\t330.00\t353.50\t39 793\t13 697 060\t28.855%\"\"\"\n",
    "\n",
    "print(wig_games_raw)"
   ]
  }
 ],
 "metadata": {
  "interpreter": {
   "hash": "f484f25a6b14c3ecb57adb57e63a12607335c7669ce794bc6cff4e9f264f762d"
  },
  "kernelspec": {
   "display_name": "Python 3.8.5 64-bit ('100numpy': conda)",
   "name": "python3"
  },
  "language_info": {
   "codemirror_mode": {
    "name": "ipython",
    "version": 3
   },
   "file_extension": ".py",
   "mimetype": "text/x-python",
   "name": "python",
   "nbconvert_exporter": "python",
   "pygments_lexer": "ipython3",
   "version": "3.8.5"
  },
  "orig_nbformat": 4
 },
 "nbformat": 4,
 "nbformat_minor": 2
}
