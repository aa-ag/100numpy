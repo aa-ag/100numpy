{
 "cells": [
  {
   "cell_type": "code",
   "execution_count": 2,
   "metadata": {},
   "outputs": [
    {
     "name": "stdout",
     "output_type": "stream",
     "text": [
      "1.19.1\n"
     ]
    }
   ],
   "source": [
    "import numpy as np\n",
    "print(np.__version__)"
   ]
  },
  {
   "cell_type": "markdown",
   "metadata": {},
   "source": [
    "# 71\n",
    "\n",
    "for a given array, randomly shuffle the rows starting with the second row.\n",
    "\n",
    "__tip__: use `np.random.shuffle()`"
   ]
  },
  {
   "cell_type": "code",
   "execution_count": 3,
   "metadata": {},
   "outputs": [
    {
     "name": "stdout",
     "output_type": "stream",
     "text": [
      "[['id' 'price']\n",
      " ['001' '14.99']\n",
      " ['002' '4.99']\n",
      " ['003' '7.99']\n",
      " ['004' '2.49']\n",
      " ['005' '1.49']]\n"
     ]
    }
   ],
   "source": [
    "A = np.array([['id', 'price'],\n",
    "              ['001', 14.99],\n",
    "              ['002', 4.99],\n",
    "              ['003', 7.99],\n",
    "              ['004', 2.49],\n",
    "              ['005', 1.49]])\n",
    "\n",
    "print(A)"
   ]
  }
 ],
 "metadata": {
  "interpreter": {
   "hash": "f484f25a6b14c3ecb57adb57e63a12607335c7669ce794bc6cff4e9f264f762d"
  },
  "kernelspec": {
   "display_name": "Python 3.8.5 64-bit ('100numpy': conda)",
   "name": "python3"
  },
  "language_info": {
   "codemirror_mode": {
    "name": "ipython",
    "version": 3
   },
   "file_extension": ".py",
   "mimetype": "text/x-python",
   "name": "python",
   "nbconvert_exporter": "python",
   "pygments_lexer": "ipython3",
   "version": "3.8.5"
  },
  "orig_nbformat": 4
 },
 "nbformat": 4,
 "nbformat_minor": 2
}
