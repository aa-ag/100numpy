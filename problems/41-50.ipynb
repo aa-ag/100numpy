{
 "cells": [
  {
   "cell_type": "code",
   "execution_count": 2,
   "source": [
    "import numpy as np"
   ],
   "outputs": [],
   "metadata": {}
  },
  {
   "cell_type": "markdown",
   "source": [
    "# 41\n",
    "\n",
    "expand array shown in class by 1 dimension"
   ],
   "metadata": {}
  },
  {
   "cell_type": "code",
   "execution_count": 7,
   "source": [
    "A = np.array([[4, 2, 1],\n",
    "              [6, 4, 2]])\n",
    "\n",
    "print(np.expand_dims(A, axis=0))"
   ],
   "outputs": [
    {
     "output_type": "stream",
     "name": "stdout",
     "text": [
      "[[[4 2 1]\n",
      "  [6 4 2]]]\n"
     ]
    }
   ],
   "metadata": {}
  },
  {
   "cell_type": "markdown",
   "source": [
    "# 42\n",
    "\n",
    "create a three-dimensional array called _image_  with shape (200, 300, 3) filled with random values from 0 to 255 (inclusive) and data type `np.uint8`. Set random seed to 42. "
   ],
   "metadata": {}
  },
  {
   "cell_type": "code",
   "execution_count": 3,
   "source": [
    "np.random.seed(42)\n",
    "\n",
    "a = np.random.randint(low=0, high=256, size=(200, 300, 3), dtype=np.uint8)\n",
    "print(a)"
   ],
   "outputs": [
    {
     "output_type": "stream",
     "name": "stdout",
     "text": [
      "[[[102 220 225]\n",
      "  [ 95 179  61]\n",
      "  [234 203  92]\n",
      "  ...\n",
      "  [ 41  27  87]\n",
      "  [102 225  65]\n",
      "  [170   0 238]]\n",
      "\n",
      " [[169 170 213]\n",
      "  [159  44 250]\n",
      "  [224 206  61]\n",
      "  ...\n",
      "  [162 118  77]\n",
      "  [228  67  21]\n",
      "  [ 68  30  64]]\n",
      "\n",
      " [[237  26 118]\n",
      "  [ 62 157 198]\n",
      "  [  1 151  37]\n",
      "  ...\n",
      "  [218 189  51]\n",
      "  [193 250 243]\n",
      "  [235  34 180]]\n",
      "\n",
      " ...\n",
      "\n",
      " [[116 102 228]\n",
      "  [ 29  75  71]\n",
      "  [156 133  53]\n",
      "  ...\n",
      "  [ 93  45  68]\n",
      "  [124 238  76]\n",
      "  [184 185 202]]\n",
      "\n",
      " [[216 202 116]\n",
      "  [146 168 132]\n",
      "  [236  80  45]\n",
      "  ...\n",
      "  [169 145 212]\n",
      "  [123  50  70]\n",
      "  [ 11  43  62]]\n",
      "\n",
      " [[ 32  52  65]\n",
      "  [155   2  86]\n",
      "  [ 83 240  27]\n",
      "  ...\n",
      "  [ 30  57 175]\n",
      "  [ 72  83 171]\n",
      "  [ 40 114 195]]]\n"
     ]
    }
   ],
   "metadata": {}
  },
  {
   "cell_type": "markdown",
   "source": [
    "# 43 \n",
    "\n",
    "extend the given array by one timension (add a new dimension at the beginning) and assign to _image\\_extended_ variable. \n",
    "\n",
    "Expected shape is (1, 200, 300, 3)\n",
    "\n",
    "__tip__: use `np.expand_dims()`"
   ],
   "metadata": {}
  },
  {
   "cell_type": "code",
   "execution_count": 7,
   "source": [
    "a = np.random.randint(low=0, high=256, size=(200, 300, 3), dtype=np.uint8)\n",
    "print(np.expand_dims(a, axis=0))"
   ],
   "outputs": [
    {
     "output_type": "stream",
     "name": "stdout",
     "text": [
      "[[[[ 29  70  66]\n",
      "   [ 41 246 189]\n",
      "   [106 238   7]\n",
      "   ...\n",
      "   [165 109 184]\n",
      "   [236  21 167]\n",
      "   [249  13 186]]\n",
      "\n",
      "  [[246 123  13]\n",
      "   [157  67  98]\n",
      "   [243 149 170]\n",
      "   ...\n",
      "   [141  67   7]\n",
      "   [ 68 121 213]\n",
      "   [ 14  85 183]]\n",
      "\n",
      "  [[243 100 183]\n",
      "   [126  29 134]\n",
      "   [ 29 228 127]\n",
      "   ...\n",
      "   [195  99   3]\n",
      "   [ 19 206 213]\n",
      "   [ 45  13 158]]\n",
      "\n",
      "  ...\n",
      "\n",
      "  [[  0 144 109]\n",
      "   [ 80  23  35]\n",
      "   [ 65 111  45]\n",
      "   ...\n",
      "   [220 204  85]\n",
      "   [ 47 254  25]\n",
      "   [177 252 124]]\n",
      "\n",
      "  [[249 240  44]\n",
      "   [ 77  81  38]\n",
      "   [ 70 169 235]\n",
      "   ...\n",
      "   [ 61 120  73]\n",
      "   [223  97 144]\n",
      "   [160 137  82]]\n",
      "\n",
      "  [[247 206  15]\n",
      "   [202  30 250]\n",
      "   [171 148  72]\n",
      "   ...\n",
      "   [185 186   7]\n",
      "   [  0  47 248]\n",
      "   [211 161  61]]]]\n"
     ]
    }
   ],
   "metadata": {}
  },
  {
   "cell_type": "markdown",
   "source": [
    "# 44\n",
    "\n",
    "Two randomly generated arrays are given, expand each of them by adding one dimension at the beginning and then combine them into one called _images_.\n",
    "\n",
    "Expected shape of _images_ is (2, 200, 300, 3)"
   ],
   "metadata": {}
  },
  {
   "cell_type": "code",
   "execution_count": 8,
   "source": [
    "image1 = np.random.randint(low=0, high=256, size=(200, 300, 3), dtype=np.uint8)\n",
    "image2 = np.random.randint(low=0, high=256, size=(200, 300, 3), dtype=np.uint8)\n",
    "\n",
    "expanded_image1 = np.expand_dims(image1, axis=0)\n",
    "expanded_image2 = np.expand_dims(image2, axis=0)\n",
    "\n",
    "images = np.concatenate((expanded_image1, expanded_image2), axis=0)\n",
    "print(images)"
   ],
   "outputs": [
    {
     "output_type": "stream",
     "name": "stdout",
     "text": [
      "[[[[ 71 134  84]\n",
      "   [129  53  53]\n",
      "   [ 82  81  70]\n",
      "   ...\n",
      "   [208 113 224]\n",
      "   [114  66  41]\n",
      "   [ 12 118 245]]\n",
      "\n",
      "  [[107 149  39]\n",
      "   [ 69  60  42]\n",
      "   [224 207  61]\n",
      "   ...\n",
      "   [ 32  69 206]\n",
      "   [194  42   9]\n",
      "   [189 131 176]]\n",
      "\n",
      "  [[182 155 217]\n",
      "   [173 177  24]\n",
      "   [154  14  95]\n",
      "   ...\n",
      "   [ 88 252 230]\n",
      "   [ 64  85 235]\n",
      "   [184 184 117]]\n",
      "\n",
      "  ...\n",
      "\n",
      "  [[147 139 216]\n",
      "   [ 78 168 200]\n",
      "   [247  56 242]\n",
      "   ...\n",
      "   [105 105  12]\n",
      "   [ 38 173 121]\n",
      "   [ 45  84   7]]\n",
      "\n",
      "  [[ 46 110 133]\n",
      "   [ 11  56 158]\n",
      "   [  5   8   6]\n",
      "   ...\n",
      "   [168  47  87]\n",
      "   [136 162 176]\n",
      "   [255 144  13]]\n",
      "\n",
      "  [[127 161 252]\n",
      "   [ 54 111  40]\n",
      "   [114  36  25]\n",
      "   ...\n",
      "   [149  40 131]\n",
      "   [205 243 180]\n",
      "   [143  73 112]]]\n",
      "\n",
      "\n",
      " [[[ 40 248 162]\n",
      "   [129 248  75]\n",
      "   [ 62 142  88]\n",
      "   ...\n",
      "   [197  89  18]\n",
      "   [189 115 123]\n",
      "   [157  67 192]]\n",
      "\n",
      "  [[ 45 185  37]\n",
      "   [248 145  16]\n",
      "   [160 140  28]\n",
      "   ...\n",
      "   [127 232  62]\n",
      "   [229 255  82]\n",
      "   [219 234 239]]\n",
      "\n",
      "  [[ 94 188 226]\n",
      "   [120   2 251]\n",
      "   [ 18 118  86]\n",
      "   ...\n",
      "   [ 82 134 126]\n",
      "   [242 154 111]\n",
      "   [176 131 237]]\n",
      "\n",
      "  ...\n",
      "\n",
      "  [[164  91  12]\n",
      "   [ 85  52 162]\n",
      "   [234 193  48]\n",
      "   ...\n",
      "   [205  94 122]\n",
      "   [ 99  58  82]\n",
      "   [ 91 221   4]]\n",
      "\n",
      "  [[184 210 230]\n",
      "   [110 122 201]\n",
      "   [ 39 144  30]\n",
      "   ...\n",
      "   [158 127 191]\n",
      "   [194 177 240]\n",
      "   [205 161 137]]\n",
      "\n",
      "  [[241 179 254]\n",
      "   [ 28  77 125]\n",
      "   [222  95 106]\n",
      "   ...\n",
      "   [105 180  88]\n",
      "   [210  43 207]\n",
      "   [141 208 128]]]]\n"
     ]
    }
   ],
   "metadata": {}
  },
  {
   "cell_type": "markdown",
   "source": [
    "# 45\n",
    "\n",
    "for a given array of shape (1, 2, 3), remove the unnecessary first dimension and extract (2, 3).\n",
    "\n",
    "__tip__: use `np.squeeze()`."
   ],
   "metadata": {}
  },
  {
   "cell_type": "code",
   "execution_count": 16,
   "source": [
    "A = np.array([[[1, 2, 3],\n",
    "               [6, 3, 2]]])\n",
    "\n",
    "print(np.squeeze(A, axis=0))"
   ],
   "outputs": [
    {
     "output_type": "stream",
     "name": "stdout",
     "text": [
      "[[1 2 3]\n",
      " [6 3 2]]\n"
     ]
    }
   ],
   "metadata": {}
  },
  {
   "cell_type": "markdown",
   "source": [],
   "metadata": {}
  }
 ],
 "metadata": {
  "orig_nbformat": 4,
  "language_info": {
   "name": "python",
   "version": "3.8.5",
   "mimetype": "text/x-python",
   "codemirror_mode": {
    "name": "ipython",
    "version": 3
   },
   "pygments_lexer": "ipython3",
   "nbconvert_exporter": "python",
   "file_extension": ".py"
  },
  "kernelspec": {
   "name": "python3",
   "display_name": "Python 3.8.5 64-bit ('100numpy': conda)"
  },
  "interpreter": {
   "hash": "b52f04b36f03327638756634daa21bb22e967fa5215a102905812c020871b46d"
  }
 },
 "nbformat": 4,
 "nbformat_minor": 2
}