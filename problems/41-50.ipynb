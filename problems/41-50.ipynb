{
 "cells": [
  {
   "cell_type": "code",
   "execution_count": 2,
   "source": [
    "import numpy as np"
   ],
   "outputs": [],
   "metadata": {}
  },
  {
   "cell_type": "markdown",
   "source": [
    "# 41\n",
    "\n",
    "expand array shown in class by 1 dimension"
   ],
   "metadata": {}
  },
  {
   "cell_type": "code",
   "execution_count": 7,
   "source": [
    "A = np.array([[4, 2, 1],\n",
    "              [6, 4, 2]])\n",
    "\n",
    "print(np.expand_dims(A, axis=0))"
   ],
   "outputs": [
    {
     "output_type": "stream",
     "name": "stdout",
     "text": [
      "[[[4 2 1]\n",
      "  [6 4 2]]]\n"
     ]
    }
   ],
   "metadata": {}
  },
  {
   "cell_type": "markdown",
   "source": [
    "# 42\n",
    "\n",
    "create a three-dimensional array called _image_  with shape (200, 300, 3) filled with random values from 0 to 255 (inclusive) and data type `np.uint8`. Set random seed to 42. "
   ],
   "metadata": {}
  },
  {
   "cell_type": "code",
   "execution_count": 3,
   "source": [
    "np.random.seed(42)\n",
    "\n",
    "a = np.random.randint(low=0, high=256, size=(200, 300, 3), dtype=np.uint8)\n",
    "print(a)"
   ],
   "outputs": [
    {
     "output_type": "stream",
     "name": "stdout",
     "text": [
      "[[[102 220 225]\n",
      "  [ 95 179  61]\n",
      "  [234 203  92]\n",
      "  ...\n",
      "  [ 41  27  87]\n",
      "  [102 225  65]\n",
      "  [170   0 238]]\n",
      "\n",
      " [[169 170 213]\n",
      "  [159  44 250]\n",
      "  [224 206  61]\n",
      "  ...\n",
      "  [162 118  77]\n",
      "  [228  67  21]\n",
      "  [ 68  30  64]]\n",
      "\n",
      " [[237  26 118]\n",
      "  [ 62 157 198]\n",
      "  [  1 151  37]\n",
      "  ...\n",
      "  [218 189  51]\n",
      "  [193 250 243]\n",
      "  [235  34 180]]\n",
      "\n",
      " ...\n",
      "\n",
      " [[116 102 228]\n",
      "  [ 29  75  71]\n",
      "  [156 133  53]\n",
      "  ...\n",
      "  [ 93  45  68]\n",
      "  [124 238  76]\n",
      "  [184 185 202]]\n",
      "\n",
      " [[216 202 116]\n",
      "  [146 168 132]\n",
      "  [236  80  45]\n",
      "  ...\n",
      "  [169 145 212]\n",
      "  [123  50  70]\n",
      "  [ 11  43  62]]\n",
      "\n",
      " [[ 32  52  65]\n",
      "  [155   2  86]\n",
      "  [ 83 240  27]\n",
      "  ...\n",
      "  [ 30  57 175]\n",
      "  [ 72  83 171]\n",
      "  [ 40 114 195]]]\n"
     ]
    }
   ],
   "metadata": {}
  },
  {
   "cell_type": "markdown",
   "source": [
    "# 43 \n",
    "\n",
    "extend the given array by one timension (add a new dimension at the beginning) and assign to _image\\_extended_ variable. \n",
    "\n",
    "Expected shape is (1, 200, 300, 3)\n",
    "\n",
    "__tip__: use `np.expand_dims()`"
   ],
   "metadata": {}
  },
  {
   "cell_type": "markdown",
   "source": [],
   "metadata": {}
  }
 ],
 "metadata": {
  "orig_nbformat": 4,
  "language_info": {
   "name": "python",
   "version": "3.8.5",
   "mimetype": "text/x-python",
   "codemirror_mode": {
    "name": "ipython",
    "version": 3
   },
   "pygments_lexer": "ipython3",
   "nbconvert_exporter": "python",
   "file_extension": ".py"
  },
  "kernelspec": {
   "name": "python3",
   "display_name": "Python 3.8.5 64-bit ('100numpy': conda)"
  },
  "interpreter": {
   "hash": "b52f04b36f03327638756634daa21bb22e967fa5215a102905812c020871b46d"
  }
 },
 "nbformat": 4,
 "nbformat_minor": 2
}