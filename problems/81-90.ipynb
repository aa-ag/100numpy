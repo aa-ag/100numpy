{
 "cells": [
  {
   "cell_type": "code",
   "execution_count": 1,
   "metadata": {},
   "outputs": [
    {
     "name": "stdout",
     "output_type": "stream",
     "text": [
      "1.19.1\n"
     ]
    }
   ],
   "source": [
    "import numpy as np\n",
    "print(np.__version__)"
   ]
  },
  {
   "cell_type": "markdown",
   "metadata": {},
   "source": [
    "# 81\n",
    "\n",
    "generate all dates for Mondays from January & February 2020 as an array"
   ]
  },
  {
   "cell_type": "code",
   "execution_count": 23,
   "metadata": {},
   "outputs": [
    {
     "name": "stdout",
     "output_type": "stream",
     "text": [
      "['2020-01-06' '2020-01-13' '2020-01-20' '2020-01-27' '2020-02-03'\n",
      " '2020-02-10' '2020-02-17' '2020-02-24']\n"
     ]
    }
   ],
   "source": [
    "print(np.arange('2020-01-06', '2020-03', dtype='datetime64[D]')[::7])"
   ]
  },
  {
   "cell_type": "markdown",
   "metadata": {},
   "source": [
    "# 82 \n",
    "\n",
    "merge two given arrays to generate the expected results"
   ]
  },
  {
   "cell_type": "code",
   "execution_count": 26,
   "metadata": {},
   "outputs": [
    {
     "name": "stdout",
     "output_type": "stream",
     "text": [
      "['001XC' '002YC' '003ZC']\n"
     ]
    }
   ],
   "source": [
    "A = np.array(['001', '002', '003'], dtype=np.str)\n",
    "B = np.array(['XC', 'YC', 'ZC'], dtype=np.str)\n",
    "\n",
    "print(np.char.add(A, B))"
   ]
  },
  {
   "cell_type": "markdown",
   "metadata": {},
   "source": [
    "# 83\n",
    "\n",
    "for a given array, add three zeros at the beginning of each element\n",
    "\n",
    "__tip__: use `np.char.add()` or `np.char.rjust()` or `np.char.zfill()`"
   ]
  },
  {
   "cell_type": "code",
   "execution_count": 5,
   "metadata": {},
   "outputs": [
    {
     "name": "stdout",
     "output_type": "stream",
     "text": [
      "['0001' '0002' '0003']\n"
     ]
    }
   ],
   "source": [
    "A = np.array(['1', '2', '3'], dtype=np.str)\n",
    "print(np.char.add('000', A))"
   ]
  },
  {
   "cell_type": "markdown",
   "metadata": {},
   "source": [
    "# 84\n",
    "\n",
    "split each element of a given array. __tip__: use `np.char.split()`"
   ]
  },
  {
   "cell_type": "code",
   "execution_count": 7,
   "metadata": {},
   "outputs": [
    {
     "name": "stdout",
     "output_type": "stream",
     "text": [
      "[[list(['PLW', 'CDR', '11B', 'TEN']) list(['AMC', 'LPP'])]\n",
      " [list(['CDR', 'PKO', 'KGH']) list(['CCC', 'QMK'])]]\n"
     ]
    }
   ],
   "source": [
    "A = np.array([['PLW CDR 11B TEN', 'AMC LPP'],\n",
    "              ['CDR PKO KGH', 'CCC QMK']], dtype=np.str)\n",
    "\n",
    "print(np.char.split(A))"
   ]
  },
  {
   "cell_type": "markdown",
   "metadata": {},
   "source": [
    "# 85\n",
    "\n",
    "on a given array of strings, replace all `#` characters with spaces and then strip all unnecesary white characters around the text\n",
    "\n",
    "__tip__: use `np.char.replace()` and `np.char.strip()`"
   ]
  },
  {
   "cell_type": "code",
   "execution_count": 14,
   "metadata": {},
   "outputs": [
    {
     "name": "stdout",
     "output_type": "stream",
     "text": [
      "[['summer time mood']\n",
      " ['sport time']]\n"
     ]
    }
   ],
   "source": [
    "A = np.array([['#summer#time#mood'],\n",
    "              ['#sport#time']])\n",
    "\n",
    "print(np.char.strip(np.char.replace(A, '#', ' ')))"
   ]
  },
  {
   "cell_type": "markdown",
   "metadata": {},
   "source": [
    "# 86\n",
    "\n",
    "for a given array, count the number of occurrences of the word `time` in each element of the array and return the result in the expected format\n",
    "\n",
    "__tip__: use `np.char.count()`"
   ]
  },
  {
   "cell_type": "code",
   "execution_count": 27,
   "metadata": {},
   "outputs": [
    {
     "name": "stdout",
     "output_type": "stream",
     "text": [
      "[[1 0]\n",
      " [1 1]\n",
      " [0 0]]\n"
     ]
    }
   ],
   "source": [
    "A = np.array([['#summer#time#mood', '#vibe'],\n",
    "              ['#sport#time', '#good#time'],\n",
    "              ['#event#summer', '#fast#move']])\n",
    "\n",
    "A = np.char.strip(np.char.replace(A, '#', ' '))\n",
    "print(np.char.count(A, 'time'))"
   ]
  },
  {
   "cell_type": "markdown",
   "metadata": {},
   "source": [
    "# 87\n",
    "\n",
    "for a given string, split it into lines. then, split lines using `\\t` and create an array (witout headers) containing the data provided in class.  all this assigned into variable `result`"
   ]
  },
  {
   "cell_type": "code",
   "execution_count": 11,
   "metadata": {},
   "outputs": [
    {
     "name": "stdout",
     "output_type": "stream",
     "text": [
      "['ALIOR\\tPLALIOR00045\\t88 860 000\\t1 386 216 000\\t0,891\\t2,16\\t14', 'CCC\\tPLCCC0000016\\t27 918 000\\t1 292 603 400\\t0,831\\t5,28\\t42', 'CDPROJEKT\\tPLOPTTC00011\\t67 348 000\\t22 864 646 000\\t14,702\\t7,39\\t7', 'CYFRPLSAT\\tPLCFRPT00013\\t275 301 000\\t6 854 994 900\\t4,408\\t1,17\\t14', 'DINOPL\\tPLDINPL00011\\t47 937 000\\t8 916 282 000\\t5,733\\t9,13\\t12', 'JSW\\tPLJSW0000015\\t52 636 000\\t716 902 320\\t0,461\\t1,51\\t24', 'KGHM\\tPLKGHM000017\\t136 410 000\\t9 881 540 400\\t6,354\\t4,78\\t8', 'LOTOS\\tPLLOTOS00025\\t86 543 000\\t5 609 717 260\\t3,607\\t2,91\\t16', 'LPP\\tPLLPP0000011\\t1 306 000\\t7 444 200 000\\t4,787\\t1,43\\t19', 'MBANK\\tPLBRE0000012\\t12 997 000\\t2 830 746 600\\t1,820\\t0,42\\t24', 'ORANGEPL\\tPLTLKPL00017\\t647 357 000\\t4 285 503 340\\t2,756\\t1,16\\t13', 'PEKAO\\tPLPEKAO00016\\t176 379 000\\t9 619 710 660\\t6,185\\t5,27\\t9', 'PGE\\tPLPGER000010\\t796 776 000\\t3 561 588 720\\t2,290\\t2,88\\t18', 'PGNIG\\tPLPGNIG00014\\t1 624 608 000\\t6 072 784 704\\t3,905\\t1,56\\t12', 'PKNORLEN\\tPLPKN0000018\\t289 049 000\\t17 701 360 760\\t11,382\\t12,44\\t8', 'PKOBP\\tPLPKO0000016\\t857 593 000\\t18 807 014 490\\t12,093\\t10,49\\t9', 'PLAY\\tLU1642887738\\t114 151 000\\t3 696 209 380\\t2,377\\t1,47\\t16', 'PZU\\tPLPZU0000011\\t568 305 000\\t17 515 160 100\\t11,262\\t6,64\\t6', 'SANPL\\tPLBZ00000044\\t33 207 000\\t5 213 499 000\\t3,352\\t1,91\\t18', 'TAURONPE\\tPLTAURN00011\\t1 043 590 000\\t1 252 308 000\\t0,805\\t1,21\\t33']\n"
     ]
    }
   ],
   "source": [
    "text = \"\"\"ALIOR\tPLALIOR00045\t88 860 000\t1 386 216 000\t0,891\t2,16\t14\n",
    "CCC\tPLCCC0000016\t27 918 000\t1 292 603 400\t0,831\t5,28\t42\n",
    "CDPROJEKT\tPLOPTTC00011\t67 348 000\t22 864 646 000\t14,702\t7,39\t7\n",
    "CYFRPLSAT\tPLCFRPT00013\t275 301 000\t6 854 994 900\t4,408\t1,17\t14\n",
    "DINOPL\tPLDINPL00011\t47 937 000\t8 916 282 000\t5,733\t9,13\t12\n",
    "JSW\tPLJSW0000015\t52 636 000\t716 902 320\t0,461\t1,51\t24\n",
    "KGHM\tPLKGHM000017\t136 410 000\t9 881 540 400\t6,354\t4,78\t8\n",
    "LOTOS\tPLLOTOS00025\t86 543 000\t5 609 717 260\t3,607\t2,91\t16\n",
    "LPP\tPLLPP0000011\t1 306 000\t7 444 200 000\t4,787\t1,43\t19\n",
    "MBANK\tPLBRE0000012\t12 997 000\t2 830 746 600\t1,820\t0,42\t24\n",
    "ORANGEPL\tPLTLKPL00017\t647 357 000\t4 285 503 340\t2,756\t1,16\t13\n",
    "PEKAO\tPLPEKAO00016\t176 379 000\t9 619 710 660\t6,185\t5,27\t9\n",
    "PGE\tPLPGER000010\t796 776 000\t3 561 588 720\t2,290\t2,88\t18\n",
    "PGNIG\tPLPGNIG00014\t1 624 608 000\t6 072 784 704\t3,905\t1,56\t12\n",
    "PKNORLEN\tPLPKN0000018\t289 049 000\t17 701 360 760\t11,382\t12,44\t8\n",
    "PKOBP\tPLPKO0000016\t857 593 000\t18 807 014 490\t12,093\t10,49\t9\n",
    "PLAY\tLU1642887738\t114 151 000\t3 696 209 380\t2,377\t1,47\t16\n",
    "PZU\tPLPZU0000011\t568 305 000\t17 515 160 100\t11,262\t6,64\t6\n",
    "SANPL\tPLBZ00000044\t33 207 000\t5 213 499 000\t3,352\t1,91\t18\n",
    "TAURONPE\tPLTAURN00011\t1 043 590 000\t1 252 308 000\t0,805\t1,21\t33\"\"\"\n",
    "\n",
    "print(np.char.splitlines(text))"
   ]
  }
 ],
 "metadata": {
  "interpreter": {
   "hash": "f484f25a6b14c3ecb57adb57e63a12607335c7669ce794bc6cff4e9f264f762d"
  },
  "kernelspec": {
   "display_name": "Python 3.8.5 64-bit ('100numpy': conda)",
   "name": "python3"
  },
  "language_info": {
   "codemirror_mode": {
    "name": "ipython",
    "version": 3
   },
   "file_extension": ".py",
   "mimetype": "text/x-python",
   "name": "python",
   "nbconvert_exporter": "python",
   "pygments_lexer": "ipython3",
   "version": "3.8.5"
  },
  "orig_nbformat": 4
 },
 "nbformat": 4,
 "nbformat_minor": 2
}
